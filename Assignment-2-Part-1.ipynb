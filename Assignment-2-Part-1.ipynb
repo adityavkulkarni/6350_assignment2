{
 "cells": [
  {
   "cell_type": "markdown",
   "metadata": {
    "application/vnd.databricks.v1+cell": {
     "cellMetadata": {
      "byteLimit": 2048000,
      "rowLimit": 10000
     },
     "inputWidgets": {},
     "nuid": "1b8faadf-0914-4788-b9dd-c9d89adc9c12",
     "showTitle": false,
     "title": ""
    }
   },
   "source": [
    "# Assignment 2 Part 1\n",
    "## Friend Recommendation using Mutual Friends"
   ]
  },
  {
   "cell_type": "code",
   "execution_count": 0,
   "metadata": {
    "application/vnd.databricks.v1+cell": {
     "cellMetadata": {
      "byteLimit": 2048000,
      "rowLimit": 10000
     },
     "inputWidgets": {},
     "nuid": "b7c65fba-fb98-4cb4-acac-d44ce5d214b9",
     "showTitle": true,
     "title": "Data file loading and random subset of users"
    }
   },
   "outputs": [],
   "source": [
    "# Load the data in format: [(\"userid\", [\"friendid1\", \"friendid2\"])]\n",
    "data = (\n",
    "    sc\n",
    "    .textFile(\"dbfs:/FileStore/assignment2/soc_LiveJournal1Adj.txt\")\n",
    "    .map(lambda x: (x.split(\"\\t\")[0], x.split(\"\\t\")[1].split(\",\")))\n",
    "    .map(lambda x: (x[0], x[1] if \"\" not in x[1] else []))\n",
    ")\n",
    "user_list = [\"0\", \"31\", \"233\", \"1234\", \"7584\", \"8675\", \"18853\", \"21212\", \"36654\", \"49998\"]"
   ]
  },
  {
   "cell_type": "code",
   "execution_count": 0,
   "metadata": {
    "application/vnd.databricks.v1+cell": {
     "cellMetadata": {
      "byteLimit": 2048000,
      "rowLimit": 10000
     },
     "inputWidgets": {},
     "nuid": "899034a1-4493-4911-bcfc-7fa0af14107c",
     "showTitle": true,
     "title": "Broadcast variable"
    }
   },
   "outputs": [],
   "source": [
    "# Broadcast variables:\n",
    "# data_dict: {\"userid\": [\"friendid1\", \"friendid2\"]}\n",
    "#data_dict = sc.broadcast({x[0]: x[1] for x in data.collect()})\n",
    "data_dict = sc.broadcast(data.collectAsMap())"
   ]
  },
  {
   "cell_type": "code",
   "execution_count": 0,
   "metadata": {
    "application/vnd.databricks.v1+cell": {
     "cellMetadata": {
      "byteLimit": 2048000,
      "rowLimit": 10000
     },
     "inputWidgets": {},
     "nuid": "97cbf380-22db-4777-a6a4-4a6386a3e7bb",
     "showTitle": true,
     "title": "Get recommendation and count mutuals - Map"
    }
   },
   "outputs": [],
   "source": [
    "# Format: [((\"userid\", \"recommendations1\"), 1)]\n",
    "mutuals = (\n",
    "    data\n",
    "    .flatMap(lambda x: \n",
    "        [((x[0], i), 1) for j in x[1] for i in data_dict.value[j] if i not in x[1] and i !=x [0]])\n",
    "    .filter(lambda x: x[0][0] in user_list)\n",
    ")"
   ]
  },
  {
   "cell_type": "code",
   "execution_count": 0,
   "metadata": {
    "application/vnd.databricks.v1+cell": {
     "cellMetadata": {
      "byteLimit": 2048000,
      "rowLimit": 10000
     },
     "inputWidgets": {},
     "nuid": "a4637613-f22f-481d-a6ee-ac7cbd94ad52",
     "showTitle": true,
     "title": "Get recommendation and count mutuals - Reduce"
    }
   },
   "outputs": [],
   "source": [
    "# Format: [((\"userid\", \"recommendations1\"), count)]\n",
    "mutuals = (\n",
    "    mutuals\n",
    "    .reduceByKey(lambda x,y: x+y)\n",
    ")"
   ]
  },
  {
   "cell_type": "code",
   "execution_count": 0,
   "metadata": {
    "application/vnd.databricks.v1+cell": {
     "cellMetadata": {
      "byteLimit": 2048000,
      "rowLimit": 10000
     },
     "inputWidgets": {},
     "nuid": "b86c556d-7772-482a-b4a9-50ae9acfee42",
     "showTitle": true,
     "title": "Aggregate and format recommendations"
    }
   },
   "outputs": [],
   "source": [
    "# Recommendations: [{\"user\": \"userid\", \"recommendations\": [(\"recommendation1\", count)]}]\n",
    "recommendations = (\n",
    "    mutuals\n",
    "    .map(lambda x: (x[0][0], [(x[0][1], x[1])]))\n",
    "    .reduceByKey(lambda x, y: x+y)\n",
    "    .sortByKey()\n",
    "    .map(lambda x: {\"user\": x[0], \"recommendations\": sorted(x[1], key=lambda x: (-x[1], x[0]))[:10]})\n",
    "    .cache()\n",
    ")"
   ]
  },
  {
   "cell_type": "code",
   "execution_count": 0,
   "metadata": {
    "application/vnd.databricks.v1+cell": {
     "cellMetadata": {
      "byteLimit": 2048000,
      "rowLimit": 10000
     },
     "inputWidgets": {},
     "nuid": "87dda55d-896d-4a91-9389-553c344e842f",
     "showTitle": false,
     "title": ""
    }
   },
   "outputs": [
    {
     "output_type": "stream",
     "name": "stdout",
     "output_type": "stream",
     "text": [
      "Out[51]: [{'user': '0',\n  'recommendations': [('38737', 5),\n   ('18591', 4),\n   ('27383', 4),\n   ('34211', 4),\n   ('12143', 3),\n   ('12561', 3),\n   ('1532', 3),\n   ('17880', 3),\n   ('22939', 3),\n   ('25212', 3)]},\n {'user': '1234',\n  'recommendations': [('1230', 3),\n   ('15186', 3),\n   ('19211', 3),\n   ('19427', 3),\n   ('23202', 3),\n   ('23690', 3),\n   ('27549', 3),\n   ('27609', 3),\n   ('27736', 3),\n   ('3895', 3)]},\n {'user': '18853',\n  'recommendations': [('15715', 2),\n   ('18852', 2),\n   ('11066', 1),\n   ('11863', 1),\n   ('11865', 1),\n   ('12447', 1),\n   ('12715', 1),\n   ('13637', 1),\n   ('13640', 1),\n   ('13648', 1)]},\n {'user': '21212',\n  'recommendations': [('21184', 2),\n   ('11005', 1),\n   ('11190', 1),\n   ('11707', 1),\n   ('1230', 1),\n   ('13106', 1),\n   ('13223', 1),\n   ('13279', 1),\n   ('13423', 1),\n   ('1357', 1)]},\n {'user': '233',\n  'recommendations': [('95', 7),\n   ('213', 5),\n   ('240', 4),\n   ('6935', 3),\n   ('164', 2),\n   ('17150', 2),\n   ('19388', 2),\n   ('20590', 2),\n   ('33621', 2),\n   ('38741', 2)]},\n {'user': '31',\n  'recommendations': [('29696', 7),\n   ('29704', 7),\n   ('29695', 5),\n   ('29703', 5),\n   ('29709', 5),\n   ('29692', 4),\n   ('29712', 4),\n   ('41079', 4),\n   ('27383', 3),\n   ('29710', 3)]},\n {'user': '36654',\n  'recommendations': [('36657', 2),\n   ('36658', 2),\n   ('12339', 1),\n   ('12991', 1),\n   ('22049', 1),\n   ('24336', 1),\n   ('28381', 1),\n   ('30842', 1),\n   ('30870', 1),\n   ('30920', 1)]},\n {'user': '49998',\n  'recommendations': [('11377', 4),\n   ('34439', 3),\n   ('34450', 3),\n   ('45133', 3),\n   ('11383', 2),\n   ('11385', 2),\n   ('13852', 2),\n   ('13863', 2),\n   ('23510', 2),\n   ('27555', 2)]},\n {'user': '7584',\n  'recommendations': [('7530', 9),\n   ('7580', 7),\n   ('7529', 5),\n   ('7537', 5),\n   ('7564', 5),\n   ('7581', 5),\n   ('7596', 5),\n   ('7603', 5),\n   ('5667', 4),\n   ('5684', 4)]},\n {'user': '8675',\n  'recommendations': [('239', 17),\n   ('16883', 15),\n   ('16862', 11),\n   ('15356', 8),\n   ('16914', 8),\n   ('16966', 8),\n   ('17022', 8),\n   ('17740', 8),\n   ('16896', 7),\n   ('16898', 7)]}]"
     ]
    }
   ],
   "source": [
    "recommendations.collect()"
   ]
  },
  {
   "cell_type": "code",
   "execution_count": 0,
   "metadata": {
    "application/vnd.databricks.v1+cell": {
     "cellMetadata": {
      "byteLimit": 2048000,
      "rowLimit": 10000
     },
     "inputWidgets": {},
     "nuid": "6eafe3c8-d6a1-4abf-bca2-97f550fbf962",
     "showTitle": true,
     "title": "Results in Dataframe format"
    }
   },
   "outputs": [],
   "source": [
    "results = (\n",
    "    recommendations\n",
    "    .map(lambda x: (\n",
    "        x[\"user\"], \n",
    "        \", \".join([y[0] for y in sorted(x[\"recommendations\"], key=lambda z: (-z[1], int(z[0])))]), \n",
    "        \", \".join([f\"{y[0]}: {y[1]}\" for y in x[\"recommendations\"]])))\n",
    "    .sortBy(lambda x: int(x[0]))\n",
    "    .toDF([\"User\", \"Recommendations\", \"Mutuals Count\"])\n",
    ")"
   ]
  },
  {
   "cell_type": "code",
   "execution_count": 0,
   "metadata": {
    "application/vnd.databricks.v1+cell": {
     "cellMetadata": {
      "byteLimit": 2048000,
      "rowLimit": 10000
     },
     "inputWidgets": {},
     "nuid": "01d1c38e-f30e-427b-b2f8-a99957287d7f",
     "showTitle": false,
     "title": ""
    }
   },
   "outputs": [
    {
     "output_type": "display_data",
     "data": {
      "text/html": [
       "<style scoped>\n",
       "  .table-result-container {\n",
       "    max-height: 300px;\n",
       "    overflow: auto;\n",
       "  }\n",
       "  table, th, td {\n",
       "    border: 1px solid black;\n",
       "    border-collapse: collapse;\n",
       "  }\n",
       "  th, td {\n",
       "    padding: 5px;\n",
       "  }\n",
       "  th {\n",
       "    text-align: left;\n",
       "  }\n",
       "</style><div class='table-result-container'><table class='table-result'><thead style='background-color: white'><tr><th>User</th><th>Recommendations</th><th>Mutuals Count</th></tr></thead><tbody><tr><td>0</td><td>38737, 18591, 27383, 34211, 1532, 12143, 12561, 17880, 22939, 25212</td><td>38737: 5, 18591: 4, 27383: 4, 34211: 4, 12143: 3, 12561: 3, 1532: 3, 17880: 3, 22939: 3, 25212: 3</td></tr><tr><td>31</td><td>29696, 29704, 29695, 29703, 29709, 29692, 29712, 41079, 27383, 29710</td><td>29696: 7, 29704: 7, 29695: 5, 29703: 5, 29709: 5, 29692: 4, 29712: 4, 41079: 4, 27383: 3, 29710: 3</td></tr><tr><td>233</td><td>95, 213, 240, 6935, 164, 17150, 19388, 20590, 33621, 38741</td><td>95: 7, 213: 5, 240: 4, 6935: 3, 164: 2, 17150: 2, 19388: 2, 20590: 2, 33621: 2, 38741: 2</td></tr><tr><td>1234</td><td>1230, 3895, 15186, 19211, 19427, 23202, 23690, 27549, 27609, 27736</td><td>1230: 3, 15186: 3, 19211: 3, 19427: 3, 23202: 3, 23690: 3, 27549: 3, 27609: 3, 27736: 3, 3895: 3</td></tr><tr><td>7584</td><td>7530, 7580, 7529, 7537, 7564, 7581, 7596, 7603, 5667, 5684</td><td>7530: 9, 7580: 7, 7529: 5, 7537: 5, 7564: 5, 7581: 5, 7596: 5, 7603: 5, 5667: 4, 5684: 4</td></tr><tr><td>8675</td><td>239, 16883, 16862, 15356, 16914, 16966, 17022, 17740, 16896, 16898</td><td>239: 17, 16883: 15, 16862: 11, 15356: 8, 16914: 8, 16966: 8, 17022: 8, 17740: 8, 16896: 7, 16898: 7</td></tr><tr><td>18853</td><td>15715, 18852, 11066, 11863, 11865, 12447, 12715, 13637, 13640, 13648</td><td>15715: 2, 18852: 2, 11066: 1, 11863: 1, 11865: 1, 12447: 1, 12715: 1, 13637: 1, 13640: 1, 13648: 1</td></tr><tr><td>21212</td><td>21184, 1230, 1357, 11005, 11190, 11707, 13106, 13223, 13279, 13423</td><td>21184: 2, 11005: 1, 11190: 1, 11707: 1, 1230: 1, 13106: 1, 13223: 1, 13279: 1, 13423: 1, 1357: 1</td></tr><tr><td>36654</td><td>36657, 36658, 12339, 12991, 22049, 24336, 28381, 30842, 30870, 30920</td><td>36657: 2, 36658: 2, 12339: 1, 12991: 1, 22049: 1, 24336: 1, 28381: 1, 30842: 1, 30870: 1, 30920: 1</td></tr><tr><td>49998</td><td>11377, 34439, 34450, 45133, 11383, 11385, 13852, 13863, 23510, 27555</td><td>11377: 4, 34439: 3, 34450: 3, 45133: 3, 11383: 2, 11385: 2, 13852: 2, 13863: 2, 23510: 2, 27555: 2</td></tr></tbody></table></div>"
      ]
     },
     "metadata": {
      "application/vnd.databricks.v1+output": {
       "addedWidgets": {},
       "aggData": [],
       "aggError": "",
       "aggOverflow": false,
       "aggSchema": [],
       "aggSeriesLimitReached": false,
       "aggType": "",
       "arguments": {},
       "columnCustomDisplayInfos": {},
       "data": [
        [
         "0",
         "38737, 18591, 27383, 34211, 1532, 12143, 12561, 17880, 22939, 25212",
         "38737: 5, 18591: 4, 27383: 4, 34211: 4, 12143: 3, 12561: 3, 1532: 3, 17880: 3, 22939: 3, 25212: 3"
        ],
        [
         "31",
         "29696, 29704, 29695, 29703, 29709, 29692, 29712, 41079, 27383, 29710",
         "29696: 7, 29704: 7, 29695: 5, 29703: 5, 29709: 5, 29692: 4, 29712: 4, 41079: 4, 27383: 3, 29710: 3"
        ],
        [
         "233",
         "95, 213, 240, 6935, 164, 17150, 19388, 20590, 33621, 38741",
         "95: 7, 213: 5, 240: 4, 6935: 3, 164: 2, 17150: 2, 19388: 2, 20590: 2, 33621: 2, 38741: 2"
        ],
        [
         "1234",
         "1230, 3895, 15186, 19211, 19427, 23202, 23690, 27549, 27609, 27736",
         "1230: 3, 15186: 3, 19211: 3, 19427: 3, 23202: 3, 23690: 3, 27549: 3, 27609: 3, 27736: 3, 3895: 3"
        ],
        [
         "7584",
         "7530, 7580, 7529, 7537, 7564, 7581, 7596, 7603, 5667, 5684",
         "7530: 9, 7580: 7, 7529: 5, 7537: 5, 7564: 5, 7581: 5, 7596: 5, 7603: 5, 5667: 4, 5684: 4"
        ],
        [
         "8675",
         "239, 16883, 16862, 15356, 16914, 16966, 17022, 17740, 16896, 16898",
         "239: 17, 16883: 15, 16862: 11, 15356: 8, 16914: 8, 16966: 8, 17022: 8, 17740: 8, 16896: 7, 16898: 7"
        ],
        [
         "18853",
         "15715, 18852, 11066, 11863, 11865, 12447, 12715, 13637, 13640, 13648",
         "15715: 2, 18852: 2, 11066: 1, 11863: 1, 11865: 1, 12447: 1, 12715: 1, 13637: 1, 13640: 1, 13648: 1"
        ],
        [
         "21212",
         "21184, 1230, 1357, 11005, 11190, 11707, 13106, 13223, 13279, 13423",
         "21184: 2, 11005: 1, 11190: 1, 11707: 1, 1230: 1, 13106: 1, 13223: 1, 13279: 1, 13423: 1, 1357: 1"
        ],
        [
         "36654",
         "36657, 36658, 12339, 12991, 22049, 24336, 28381, 30842, 30870, 30920",
         "36657: 2, 36658: 2, 12339: 1, 12991: 1, 22049: 1, 24336: 1, 28381: 1, 30842: 1, 30870: 1, 30920: 1"
        ],
        [
         "49998",
         "11377, 34439, 34450, 45133, 11383, 11385, 13852, 13863, 23510, 27555",
         "11377: 4, 34439: 3, 34450: 3, 45133: 3, 11383: 2, 11385: 2, 13852: 2, 13863: 2, 23510: 2, 27555: 2"
        ]
       ],
       "datasetInfos": [],
       "dbfsResultPath": null,
       "isJsonSchema": true,
       "metadata": {},
       "overflow": false,
       "plotOptions": {
        "customPlotOptions": {},
        "displayType": "table",
        "pivotAggregation": null,
        "pivotColumns": null,
        "xColumns": null,
        "yColumns": null
       },
       "removedWidgets": [],
       "schema": [
        {
         "metadata": "{}",
         "name": "User",
         "type": "\"string\""
        },
        {
         "metadata": "{}",
         "name": "Recommendations",
         "type": "\"string\""
        },
        {
         "metadata": "{}",
         "name": "Mutuals Count",
         "type": "\"string\""
        }
       ],
       "type": "table"
      }
     },
     "output_type": "display_data"
    }
   ],
   "source": [
    "results.display()"
   ]
  },
  {
   "cell_type": "code",
   "execution_count": 0,
   "metadata": {
    "application/vnd.databricks.v1+cell": {
     "cellMetadata": {
      "byteLimit": 2048000,
      "rowLimit": 10000
     },
     "inputWidgets": {},
     "nuid": "d171e96b-5054-491d-98f3-669562bb6edd",
     "showTitle": false,
     "title": ""
    }
   },
   "outputs": [
    {
     "output_type": "stream",
     "name": "stdout",
     "output_type": "stream",
     "text": [
      "0\t38737, 18591, 27383, 34211, 1532, 12143, 12561, 17880, 22939, 25212\n31\t29696, 29704, 29695, 29703, 29709, 29692, 29712, 41079, 27383, 29710\n233\t95, 213, 240, 6935, 164, 17150, 19388, 20590, 33621, 38741\n1234\t1230, 3895, 15186, 19211, 19427, 23202, 23690, 27549, 27609, 27736\n7584\t7530, 7580, 7529, 7537, 7564, 7581, 7596, 7603, 5667, 5684\n8675\t239, 16883, 16862, 15356, 16914, 16966, 17022, 17740, 16896, 16898\n18853\t15715, 18852, 11066, 11863, 11865, 12447, 12715, 13637, 13640, 13648\n21212\t21184, 1230, 1357, 11005, 11190, 11707, 13106, 13223, 13279, 13423\n36654\t36657, 36658, 12339, 12991, 22049, 24336, 28381, 30842, 30870, 30920\n49998\t11377, 34439, 34450, 45133, 11383, 11385, 13852, 13863, 23510, 27555\n"
     ]
    }
   ],
   "source": [
    "# In the format mentioned in assignment description\n",
    "output = (\n",
    "    results\n",
    "    .rdd\n",
    "    .map(lambda x: [x[\"User\"], x[\"Recommendations\"]])\n",
    "    .collect()\n",
    ")\n",
    "\n",
    "print(\"\\n\".join([\"\\t\".join([y for y in x]) for x in output]))"
   ]
  },
  {
   "cell_type": "code",
   "execution_count": 0,
   "metadata": {
    "application/vnd.databricks.v1+cell": {
     "cellMetadata": {
      "byteLimit": 2048000,
      "rowLimit": 10000
     },
     "inputWidgets": {},
     "nuid": "fac1f52c-382f-46fb-8073-1f865038a6a0",
     "showTitle": true,
     "title": "Single Line code for getting results"
    }
   },
   "outputs": [
    {
     "output_type": "display_data",
     "data": {
      "text/html": [
       "<style scoped>\n",
       "  .table-result-container {\n",
       "    max-height: 300px;\n",
       "    overflow: auto;\n",
       "  }\n",
       "  table, th, td {\n",
       "    border: 1px solid black;\n",
       "    border-collapse: collapse;\n",
       "  }\n",
       "  th, td {\n",
       "    padding: 5px;\n",
       "  }\n",
       "  th {\n",
       "    text-align: left;\n",
       "  }\n",
       "</style><div class='table-result-container'><table class='table-result'><thead style='background-color: white'><tr><th>User</th><th>Recommendations</th><th>Mutuals Count</th></tr></thead><tbody><tr><td>0</td><td>38737, 18591, 27383, 34211, 1532, 12143, 12561, 17880, 22939, 25212</td><td>38737: 5, 18591: 4, 27383: 4, 34211: 4, 12143: 3, 12561: 3, 1532: 3, 17880: 3, 22939: 3, 25212: 3</td></tr><tr><td>31</td><td>29696, 29704, 29695, 29703, 29709, 29692, 29712, 41079, 27383, 29710</td><td>29696: 7, 29704: 7, 29695: 5, 29703: 5, 29709: 5, 29692: 4, 29712: 4, 41079: 4, 27383: 3, 29710: 3</td></tr><tr><td>233</td><td>95, 213, 240, 6935, 164, 17150, 19388, 20590, 33621, 38741</td><td>95: 7, 213: 5, 240: 4, 6935: 3, 164: 2, 17150: 2, 19388: 2, 20590: 2, 33621: 2, 38741: 2</td></tr><tr><td>1234</td><td>1230, 3895, 15186, 19211, 19427, 23202, 23690, 27549, 27609, 27736</td><td>1230: 3, 15186: 3, 19211: 3, 19427: 3, 23202: 3, 23690: 3, 27549: 3, 27609: 3, 27736: 3, 3895: 3</td></tr><tr><td>7584</td><td>7530, 7580, 7529, 7537, 7564, 7581, 7596, 7603, 5667, 5684</td><td>7530: 9, 7580: 7, 7529: 5, 7537: 5, 7564: 5, 7581: 5, 7596: 5, 7603: 5, 5667: 4, 5684: 4</td></tr><tr><td>8675</td><td>239, 16883, 16862, 15356, 16914, 16966, 17022, 17740, 16896, 16898</td><td>239: 17, 16883: 15, 16862: 11, 15356: 8, 16914: 8, 16966: 8, 17022: 8, 17740: 8, 16896: 7, 16898: 7</td></tr><tr><td>18853</td><td>15715, 18852, 11066, 11863, 11865, 12447, 12715, 13637, 13640, 13648</td><td>15715: 2, 18852: 2, 11066: 1, 11863: 1, 11865: 1, 12447: 1, 12715: 1, 13637: 1, 13640: 1, 13648: 1</td></tr><tr><td>21212</td><td>21184, 1230, 1357, 11005, 11190, 11707, 13106, 13223, 13279, 13423</td><td>21184: 2, 11005: 1, 11190: 1, 11707: 1, 1230: 1, 13106: 1, 13223: 1, 13279: 1, 13423: 1, 1357: 1</td></tr><tr><td>36654</td><td>36657, 36658, 12339, 12991, 22049, 24336, 28381, 30842, 30870, 30920</td><td>36657: 2, 36658: 2, 12339: 1, 12991: 1, 22049: 1, 24336: 1, 28381: 1, 30842: 1, 30870: 1, 30920: 1</td></tr><tr><td>49998</td><td>11377, 34439, 34450, 45133, 11383, 11385, 13852, 13863, 23510, 27555</td><td>11377: 4, 34439: 3, 34450: 3, 45133: 3, 11383: 2, 11385: 2, 13852: 2, 13863: 2, 23510: 2, 27555: 2</td></tr></tbody></table></div>"
      ]
     },
     "metadata": {
      "application/vnd.databricks.v1+output": {
       "addedWidgets": {},
       "aggData": [],
       "aggError": "",
       "aggOverflow": false,
       "aggSchema": [],
       "aggSeriesLimitReached": false,
       "aggType": "",
       "arguments": {},
       "columnCustomDisplayInfos": {},
       "data": [
        [
         "0",
         "38737, 18591, 27383, 34211, 1532, 12143, 12561, 17880, 22939, 25212",
         "38737: 5, 18591: 4, 27383: 4, 34211: 4, 12143: 3, 12561: 3, 1532: 3, 17880: 3, 22939: 3, 25212: 3"
        ],
        [
         "31",
         "29696, 29704, 29695, 29703, 29709, 29692, 29712, 41079, 27383, 29710",
         "29696: 7, 29704: 7, 29695: 5, 29703: 5, 29709: 5, 29692: 4, 29712: 4, 41079: 4, 27383: 3, 29710: 3"
        ],
        [
         "233",
         "95, 213, 240, 6935, 164, 17150, 19388, 20590, 33621, 38741",
         "95: 7, 213: 5, 240: 4, 6935: 3, 164: 2, 17150: 2, 19388: 2, 20590: 2, 33621: 2, 38741: 2"
        ],
        [
         "1234",
         "1230, 3895, 15186, 19211, 19427, 23202, 23690, 27549, 27609, 27736",
         "1230: 3, 15186: 3, 19211: 3, 19427: 3, 23202: 3, 23690: 3, 27549: 3, 27609: 3, 27736: 3, 3895: 3"
        ],
        [
         "7584",
         "7530, 7580, 7529, 7537, 7564, 7581, 7596, 7603, 5667, 5684",
         "7530: 9, 7580: 7, 7529: 5, 7537: 5, 7564: 5, 7581: 5, 7596: 5, 7603: 5, 5667: 4, 5684: 4"
        ],
        [
         "8675",
         "239, 16883, 16862, 15356, 16914, 16966, 17022, 17740, 16896, 16898",
         "239: 17, 16883: 15, 16862: 11, 15356: 8, 16914: 8, 16966: 8, 17022: 8, 17740: 8, 16896: 7, 16898: 7"
        ],
        [
         "18853",
         "15715, 18852, 11066, 11863, 11865, 12447, 12715, 13637, 13640, 13648",
         "15715: 2, 18852: 2, 11066: 1, 11863: 1, 11865: 1, 12447: 1, 12715: 1, 13637: 1, 13640: 1, 13648: 1"
        ],
        [
         "21212",
         "21184, 1230, 1357, 11005, 11190, 11707, 13106, 13223, 13279, 13423",
         "21184: 2, 11005: 1, 11190: 1, 11707: 1, 1230: 1, 13106: 1, 13223: 1, 13279: 1, 13423: 1, 1357: 1"
        ],
        [
         "36654",
         "36657, 36658, 12339, 12991, 22049, 24336, 28381, 30842, 30870, 30920",
         "36657: 2, 36658: 2, 12339: 1, 12991: 1, 22049: 1, 24336: 1, 28381: 1, 30842: 1, 30870: 1, 30920: 1"
        ],
        [
         "49998",
         "11377, 34439, 34450, 45133, 11383, 11385, 13852, 13863, 23510, 27555",
         "11377: 4, 34439: 3, 34450: 3, 45133: 3, 11383: 2, 11385: 2, 13852: 2, 13863: 2, 23510: 2, 27555: 2"
        ]
       ],
       "datasetInfos": [],
       "dbfsResultPath": null,
       "isJsonSchema": true,
       "metadata": {},
       "overflow": false,
       "plotOptions": {
        "customPlotOptions": {},
        "displayType": "table",
        "pivotAggregation": null,
        "pivotColumns": null,
        "xColumns": null,
        "yColumns": null
       },
       "removedWidgets": [],
       "schema": [
        {
         "metadata": "{}",
         "name": "User",
         "type": "\"string\""
        },
        {
         "metadata": "{}",
         "name": "Recommendations",
         "type": "\"string\""
        },
        {
         "metadata": "{}",
         "name": "Mutuals Count",
         "type": "\"string\""
        }
       ],
       "type": "table"
      }
     },
     "output_type": "display_data"
    }
   ],
   "source": [
    "# Single line\n",
    "(\n",
    "    data\n",
    "    .flatMap(lambda x: \n",
    "        [((x[0], i), 1) for j in x[1] for i in data_dict.value[j] if i not in x[1] and i !=x [0]])\n",
    "    .filter(lambda x: x[0][0] in user_list)\n",
    "    .reduceByKey(lambda x,y: x+y)\n",
    "    .map(lambda x: (x[0][0], [(x[0][1], x[1])]))\n",
    "    .reduceByKey(lambda x, y: x+y)\n",
    "    .sortByKey()\n",
    "    .map(lambda x: {\n",
    "        \"user\": x[0], \n",
    "        \"recommendations\": sorted(x[1], key=lambda x: (-x[1], x[0]))[:10]})\n",
    "    .map(lambda x: (\n",
    "        x[\"user\"], \n",
    "        \", \".join([y[0] for y in sorted(x[\"recommendations\"], key=lambda z: (-z[1], int(z[0])))]), \n",
    "        \", \".join([f\"{y[0]}: {y[1]}\" for y in x[\"recommendations\"]])))\n",
    "    .sortBy(lambda x: int(x[0]))\n",
    "    .toDF([\"User\", \"Recommendations\", \"Mutuals Count\"])\n",
    "    .display()\n",
    ")"
   ]
  },
  {
   "cell_type": "markdown",
   "metadata": {
    "application/vnd.databricks.v1+cell": {
     "cellMetadata": {
      "byteLimit": 2048000,
      "rowLimit": 10000
     },
     "inputWidgets": {},
     "nuid": "efef12b2-79a5-4a4d-9996-9347f796b78d",
     "showTitle": false,
     "title": ""
    }
   },
   "source": [
    "#### Alternative method - counting mutuals"
   ]
  },
  {
   "cell_type": "code",
   "execution_count": 0,
   "metadata": {
    "application/vnd.databricks.v1+cell": {
     "cellMetadata": {
      "byteLimit": 2048000,
      "rowLimit": 10000
     },
     "inputWidgets": {},
     "nuid": "88dfb4c6-bf7b-4f38-ad40-72e17e5c9912",
     "showTitle": true,
     "title": "Broadcast variable"
    }
   },
   "outputs": [],
   "source": [
    "# Broadcast variables:\n",
    "# inv_data_dict: {([\"friendid1\", \"friendid2\"], \"userid\")}\n",
    "inv_data_dict = sc.broadcast([(set(x[1]), x[0]) for x in data.collect()])"
   ]
  },
  {
   "cell_type": "code",
   "execution_count": 0,
   "metadata": {
    "application/vnd.databricks.v1+cell": {
     "cellMetadata": {
      "byteLimit": 2048000,
      "rowLimit": 10000
     },
     "inputWidgets": {},
     "nuid": "0a2e9cb8-8b4e-45ab-ba5f-d53ad775ec81",
     "showTitle": true,
     "title": "Getting users with mutual connections with user id"
    }
   },
   "outputs": [],
   "source": [
    "# Collect friends of friends for user ids in user_list\n",
    "mutuals1 = (\n",
    "    data\n",
    "    .map(lambda x: {\n",
    "        \"user\": x[0], \n",
    "        \"recommendations\": set([i for j in x[1] for i in data_dict.value[j] if i not in x[1] and i !=x [0]])})\n",
    "    .filter(lambda x: x[\"user\"] in user_list)\n",
    "    .cache()\n",
    ")"
   ]
  },
  {
   "cell_type": "code",
   "execution_count": 0,
   "metadata": {
    "application/vnd.databricks.v1+cell": {
     "cellMetadata": {
      "byteLimit": 2048000,
      "rowLimit": 10000
     },
     "inputWidgets": {},
     "nuid": "cd22c3b1-7bd5-436a-9323-ae5e46705e9c",
     "showTitle": true,
     "title": "Method for counting mutual connections"
    }
   },
   "outputs": [],
   "source": [
    "# For each friend of friend, find number of mutual connections with user_id\n",
    "def count_mutuals(id_set, user):\n",
    "    \"\"\"\n",
    "    Find the top 10 users in `id_set` with the most mutual connections with `user`.\n",
    "\n",
    "    Parameters:\n",
    "    id_set (set): Set of user IDs to compare.\n",
    "    user (str): User ID to find mutual connections for.\n",
    "\n",
    "    Returns:\n",
    "    list of tuple: List of up to 10 tuples (user_id, mutual_count) sorted by highest mutual connections.\n",
    "    \"\"\"\n",
    "    results = []\n",
    "    for id in id_set:\n",
    "        cnt = len([1 for inv in inv_data_dict.value if inv[1] in data_dict.value[user] and id in inv[0]])\n",
    "        results.append((id, cnt))\n",
    "    return sorted(results, key=lambda x: (-x[1], x[0]))[:10]"
   ]
  },
  {
   "cell_type": "code",
   "execution_count": 0,
   "metadata": {
    "application/vnd.databricks.v1+cell": {
     "cellMetadata": {
      "byteLimit": 2048000,
      "rowLimit": 10000
     },
     "inputWidgets": {},
     "nuid": "227894f2-00f9-4109-8c7c-ddeb86e56cb2",
     "showTitle": true,
     "title": "Getting recommendations"
    }
   },
   "outputs": [
    {
     "output_type": "stream",
     "name": "stdout",
     "output_type": "stream",
     "text": [
      "Out[58]: [{'user': '0',\n  'recommendations': [('38737', 5),\n   ('18591', 4),\n   ('27383', 4),\n   ('34211', 4),\n   ('12143', 3),\n   ('12561', 3),\n   ('1532', 3),\n   ('17880', 3),\n   ('22939', 3),\n   ('25212', 3)]}]"
     ]
    }
   ],
   "source": [
    "# Recommendations: [{\"user\": \"userid\", \"recommendations\": [(\"recommendation1\", count)]}]\n",
    "recommendations1 = (\n",
    "    mutuals1\n",
    "    .map(lambda x: {\n",
    "        \"user\": x[\"user\"], \n",
    "        \"recommendations\": count_mutuals(x[\"recommendations\"], x[\"user\"])})\n",
    "    .cache()\n",
    ")\n",
    "recommendations1.take(1)"
   ]
  },
  {
   "cell_type": "code",
   "execution_count": 0,
   "metadata": {
    "application/vnd.databricks.v1+cell": {
     "cellMetadata": {
      "byteLimit": 2048000,
      "rowLimit": 10000
     },
     "inputWidgets": {},
     "nuid": "e404b77e-1366-4eb7-9c18-de40ea62ebbe",
     "showTitle": true,
     "title": "Creating and displaying results DF"
    }
   },
   "outputs": [],
   "source": [
    "# Create a dataframe\n",
    "results1 = (\n",
    "    recommendations1\n",
    "    .map(lambda x: (\n",
    "        x[\"user\"], \n",
    "        \", \".join([y[0] for y in sorted(x[\"recommendations\"], key=lambda z: (-z[1], int(z[0])))]), \n",
    "        \", \".join([f\"{y[0]}: {y[1]}\" for y in x[\"recommendations\"]])))\n",
    "    .toDF([\"User\", \"Recommendations\", \"Mutuals Count\"])\n",
    ")"
   ]
  },
  {
   "cell_type": "code",
   "execution_count": 0,
   "metadata": {
    "application/vnd.databricks.v1+cell": {
     "cellMetadata": {
      "byteLimit": 2048000,
      "rowLimit": 10000
     },
     "inputWidgets": {},
     "nuid": "28864ab5-869f-42ff-963f-e1988e9314aa",
     "showTitle": false,
     "title": ""
    }
   },
   "outputs": [
    {
     "output_type": "display_data",
     "data": {
      "text/html": [
       "<style scoped>\n",
       "  .table-result-container {\n",
       "    max-height: 300px;\n",
       "    overflow: auto;\n",
       "  }\n",
       "  table, th, td {\n",
       "    border: 1px solid black;\n",
       "    border-collapse: collapse;\n",
       "  }\n",
       "  th, td {\n",
       "    padding: 5px;\n",
       "  }\n",
       "  th {\n",
       "    text-align: left;\n",
       "  }\n",
       "</style><div class='table-result-container'><table class='table-result'><thead style='background-color: white'><tr><th>User</th><th>Recommendations</th><th>Mutuals Count</th></tr></thead><tbody><tr><td>0</td><td>38737, 18591, 27383, 34211, 1532, 12143, 12561, 17880, 22939, 25212</td><td>38737: 5, 18591: 4, 27383: 4, 34211: 4, 12143: 3, 12561: 3, 1532: 3, 17880: 3, 22939: 3, 25212: 3</td></tr><tr><td>31</td><td>29696, 29704, 29695, 29703, 29709, 29692, 29712, 41079, 27383, 29710</td><td>29696: 7, 29704: 7, 29695: 5, 29703: 5, 29709: 5, 29692: 4, 29712: 4, 41079: 4, 27383: 3, 29710: 3</td></tr><tr><td>8675</td><td>239, 16883, 16862, 15356, 16914, 16966, 17022, 17740, 16896, 16898</td><td>239: 17, 16883: 15, 16862: 11, 15356: 8, 16914: 8, 16966: 8, 17022: 8, 17740: 8, 16896: 7, 16898: 7</td></tr><tr><td>233</td><td>95, 213, 240, 6935, 164, 17150, 19388, 20590, 33621, 38741</td><td>95: 7, 213: 5, 240: 4, 6935: 3, 164: 2, 17150: 2, 19388: 2, 20590: 2, 33621: 2, 38741: 2</td></tr><tr><td>1234</td><td>1230, 3895, 15186, 19211, 19427, 23202, 23690, 27549, 27609, 27736</td><td>1230: 3, 15186: 3, 19211: 3, 19427: 3, 23202: 3, 23690: 3, 27549: 3, 27609: 3, 27736: 3, 3895: 3</td></tr><tr><td>7584</td><td>7530, 7580, 7529, 7537, 7564, 7581, 7596, 7603, 5667, 5684</td><td>7530: 9, 7580: 7, 7529: 5, 7537: 5, 7564: 5, 7581: 5, 7596: 5, 7603: 5, 5667: 4, 5684: 4</td></tr><tr><td>49998</td><td>11377, 34439, 34450, 45133, 11383, 11385, 13852, 13863, 23510, 27555</td><td>11377: 4, 34439: 3, 34450: 3, 45133: 3, 11383: 2, 11385: 2, 13852: 2, 13863: 2, 23510: 2, 27555: 2</td></tr><tr><td>21212</td><td>21184, 1230, 1357, 11005, 11190, 11707, 13106, 13223, 13279, 13423</td><td>21184: 2, 11005: 1, 11190: 1, 11707: 1, 1230: 1, 13106: 1, 13223: 1, 13279: 1, 13423: 1, 1357: 1</td></tr><tr><td>18853</td><td>15715, 18852, 11066, 11863, 11865, 12447, 12715, 13637, 13640, 13648</td><td>15715: 2, 18852: 2, 11066: 1, 11863: 1, 11865: 1, 12447: 1, 12715: 1, 13637: 1, 13640: 1, 13648: 1</td></tr><tr><td>36654</td><td>36657, 36658, 12339, 12991, 22049, 24336, 28381, 30842, 30870, 30920</td><td>36657: 2, 36658: 2, 12339: 1, 12991: 1, 22049: 1, 24336: 1, 28381: 1, 30842: 1, 30870: 1, 30920: 1</td></tr></tbody></table></div>"
      ]
     },
     "metadata": {
      "application/vnd.databricks.v1+output": {
       "addedWidgets": {},
       "aggData": [],
       "aggError": "",
       "aggOverflow": false,
       "aggSchema": [],
       "aggSeriesLimitReached": false,
       "aggType": "",
       "arguments": {},
       "columnCustomDisplayInfos": {},
       "data": [
        [
         "0",
         "38737, 18591, 27383, 34211, 1532, 12143, 12561, 17880, 22939, 25212",
         "38737: 5, 18591: 4, 27383: 4, 34211: 4, 12143: 3, 12561: 3, 1532: 3, 17880: 3, 22939: 3, 25212: 3"
        ],
        [
         "31",
         "29696, 29704, 29695, 29703, 29709, 29692, 29712, 41079, 27383, 29710",
         "29696: 7, 29704: 7, 29695: 5, 29703: 5, 29709: 5, 29692: 4, 29712: 4, 41079: 4, 27383: 3, 29710: 3"
        ],
        [
         "8675",
         "239, 16883, 16862, 15356, 16914, 16966, 17022, 17740, 16896, 16898",
         "239: 17, 16883: 15, 16862: 11, 15356: 8, 16914: 8, 16966: 8, 17022: 8, 17740: 8, 16896: 7, 16898: 7"
        ],
        [
         "233",
         "95, 213, 240, 6935, 164, 17150, 19388, 20590, 33621, 38741",
         "95: 7, 213: 5, 240: 4, 6935: 3, 164: 2, 17150: 2, 19388: 2, 20590: 2, 33621: 2, 38741: 2"
        ],
        [
         "1234",
         "1230, 3895, 15186, 19211, 19427, 23202, 23690, 27549, 27609, 27736",
         "1230: 3, 15186: 3, 19211: 3, 19427: 3, 23202: 3, 23690: 3, 27549: 3, 27609: 3, 27736: 3, 3895: 3"
        ],
        [
         "7584",
         "7530, 7580, 7529, 7537, 7564, 7581, 7596, 7603, 5667, 5684",
         "7530: 9, 7580: 7, 7529: 5, 7537: 5, 7564: 5, 7581: 5, 7596: 5, 7603: 5, 5667: 4, 5684: 4"
        ],
        [
         "49998",
         "11377, 34439, 34450, 45133, 11383, 11385, 13852, 13863, 23510, 27555",
         "11377: 4, 34439: 3, 34450: 3, 45133: 3, 11383: 2, 11385: 2, 13852: 2, 13863: 2, 23510: 2, 27555: 2"
        ],
        [
         "21212",
         "21184, 1230, 1357, 11005, 11190, 11707, 13106, 13223, 13279, 13423",
         "21184: 2, 11005: 1, 11190: 1, 11707: 1, 1230: 1, 13106: 1, 13223: 1, 13279: 1, 13423: 1, 1357: 1"
        ],
        [
         "18853",
         "15715, 18852, 11066, 11863, 11865, 12447, 12715, 13637, 13640, 13648",
         "15715: 2, 18852: 2, 11066: 1, 11863: 1, 11865: 1, 12447: 1, 12715: 1, 13637: 1, 13640: 1, 13648: 1"
        ],
        [
         "36654",
         "36657, 36658, 12339, 12991, 22049, 24336, 28381, 30842, 30870, 30920",
         "36657: 2, 36658: 2, 12339: 1, 12991: 1, 22049: 1, 24336: 1, 28381: 1, 30842: 1, 30870: 1, 30920: 1"
        ]
       ],
       "datasetInfos": [],
       "dbfsResultPath": null,
       "isJsonSchema": true,
       "metadata": {},
       "overflow": false,
       "plotOptions": {
        "customPlotOptions": {},
        "displayType": "table",
        "pivotAggregation": null,
        "pivotColumns": null,
        "xColumns": null,
        "yColumns": null
       },
       "removedWidgets": [],
       "schema": [
        {
         "metadata": "{}",
         "name": "User",
         "type": "\"string\""
        },
        {
         "metadata": "{}",
         "name": "Recommendations",
         "type": "\"string\""
        },
        {
         "metadata": "{}",
         "name": "Mutuals Count",
         "type": "\"string\""
        }
       ],
       "type": "table"
      }
     },
     "output_type": "display_data"
    }
   ],
   "source": [
    "results1.display()"
   ]
  },
  {
   "cell_type": "code",
   "execution_count": 0,
   "metadata": {
    "application/vnd.databricks.v1+cell": {
     "cellMetadata": {
      "byteLimit": 2048000,
      "rowLimit": 10000
     },
     "inputWidgets": {},
     "nuid": "d0bfe4ab-4f7e-4487-ad44-f185b4783268",
     "showTitle": false,
     "title": ""
    }
   },
   "outputs": [
    {
     "output_type": "stream",
     "name": "stdout",
     "output_type": "stream",
     "text": [
      "0\t38737, 18591, 27383, 34211, 1532, 12143, 12561, 17880, 22939, 25212\n31\t29696, 29704, 29695, 29703, 29709, 29692, 29712, 41079, 27383, 29710\n8675\t239, 16883, 16862, 15356, 16914, 16966, 17022, 17740, 16896, 16898\n233\t95, 213, 240, 6935, 164, 17150, 19388, 20590, 33621, 38741\n1234\t1230, 3895, 15186, 19211, 19427, 23202, 23690, 27549, 27609, 27736\n7584\t7530, 7580, 7529, 7537, 7564, 7581, 7596, 7603, 5667, 5684\n49998\t11377, 34439, 34450, 45133, 11383, 11385, 13852, 13863, 23510, 27555\n21212\t21184, 1230, 1357, 11005, 11190, 11707, 13106, 13223, 13279, 13423\n18853\t15715, 18852, 11066, 11863, 11865, 12447, 12715, 13637, 13640, 13648\n36654\t36657, 36658, 12339, 12991, 22049, 24336, 28381, 30842, 30870, 30920\n"
     ]
    }
   ],
   "source": [
    "# In the format mentioned in assignment description\n",
    "output = (\n",
    "    results1\n",
    "    .rdd\n",
    "    .map(lambda x: [x[\"User\"], x[\"Recommendations\"]])\n",
    "    .collect()\n",
    ")\n",
    "\n",
    "print(\"\\n\".join([\"\\t\".join([y for y in x]) for x in output]))"
   ]
  },
  {
   "cell_type": "code",
   "execution_count": 0,
   "metadata": {
    "application/vnd.databricks.v1+cell": {
     "cellMetadata": {
      "byteLimit": 2048000,
      "rowLimit": 10000
     },
     "inputWidgets": {},
     "nuid": "ed95e1a4-d860-4861-9485-0b6fae22b05d",
     "showTitle": true,
     "title": "Single Line code for getting results"
    }
   },
   "outputs": [
    {
     "output_type": "display_data",
     "data": {
      "text/html": [
       "<style scoped>\n",
       "  .table-result-container {\n",
       "    max-height: 300px;\n",
       "    overflow: auto;\n",
       "  }\n",
       "  table, th, td {\n",
       "    border: 1px solid black;\n",
       "    border-collapse: collapse;\n",
       "  }\n",
       "  th, td {\n",
       "    padding: 5px;\n",
       "  }\n",
       "  th {\n",
       "    text-align: left;\n",
       "  }\n",
       "</style><div class='table-result-container'><table class='table-result'><thead style='background-color: white'><tr><th>User</th><th>Recommendations</th><th>Mutuals Count</th></tr></thead><tbody><tr><td>0</td><td>38737, 18591, 27383, 34211, 1532, 12143, 12561, 17880, 22939, 25212</td><td>38737: 5, 18591: 4, 27383: 4, 34211: 4, 12143: 3, 12561: 3, 1532: 3, 17880: 3, 22939: 3, 25212: 3</td></tr><tr><td>31</td><td>29696, 29704, 29695, 29703, 29709, 29692, 29712, 41079, 27383, 29710</td><td>29696: 7, 29704: 7, 29695: 5, 29703: 5, 29709: 5, 29692: 4, 29712: 4, 41079: 4, 27383: 3, 29710: 3</td></tr><tr><td>8675</td><td>239, 16883, 16862, 15356, 16914, 16966, 17022, 17740, 16896, 16898</td><td>239: 17, 16883: 15, 16862: 11, 15356: 8, 16914: 8, 16966: 8, 17022: 8, 17740: 8, 16896: 7, 16898: 7</td></tr><tr><td>233</td><td>95, 213, 240, 6935, 164, 17150, 19388, 20590, 33621, 38741</td><td>95: 7, 213: 5, 240: 4, 6935: 3, 164: 2, 17150: 2, 19388: 2, 20590: 2, 33621: 2, 38741: 2</td></tr><tr><td>1234</td><td>1230, 3895, 15186, 19211, 19427, 23202, 23690, 27549, 27609, 27736</td><td>1230: 3, 15186: 3, 19211: 3, 19427: 3, 23202: 3, 23690: 3, 27549: 3, 27609: 3, 27736: 3, 3895: 3</td></tr><tr><td>7584</td><td>7530, 7580, 7529, 7537, 7564, 7581, 7596, 7603, 5667, 5684</td><td>7530: 9, 7580: 7, 7529: 5, 7537: 5, 7564: 5, 7581: 5, 7596: 5, 7603: 5, 5667: 4, 5684: 4</td></tr><tr><td>49998</td><td>11377, 34439, 34450, 45133, 11383, 11385, 13852, 13863, 23510, 27555</td><td>11377: 4, 34439: 3, 34450: 3, 45133: 3, 11383: 2, 11385: 2, 13852: 2, 13863: 2, 23510: 2, 27555: 2</td></tr><tr><td>21212</td><td>21184, 1230, 1357, 11005, 11190, 11707, 13106, 13223, 13279, 13423</td><td>21184: 2, 11005: 1, 11190: 1, 11707: 1, 1230: 1, 13106: 1, 13223: 1, 13279: 1, 13423: 1, 1357: 1</td></tr><tr><td>18853</td><td>15715, 18852, 11066, 11863, 11865, 12447, 12715, 13637, 13640, 13648</td><td>15715: 2, 18852: 2, 11066: 1, 11863: 1, 11865: 1, 12447: 1, 12715: 1, 13637: 1, 13640: 1, 13648: 1</td></tr><tr><td>36654</td><td>36657, 36658, 12339, 12991, 22049, 24336, 28381, 30842, 30870, 30920</td><td>36657: 2, 36658: 2, 12339: 1, 12991: 1, 22049: 1, 24336: 1, 28381: 1, 30842: 1, 30870: 1, 30920: 1</td></tr></tbody></table></div>"
      ]
     },
     "metadata": {
      "application/vnd.databricks.v1+output": {
       "addedWidgets": {},
       "aggData": [],
       "aggError": "",
       "aggOverflow": false,
       "aggSchema": [],
       "aggSeriesLimitReached": false,
       "aggType": "",
       "arguments": {},
       "columnCustomDisplayInfos": {},
       "data": [
        [
         "0",
         "38737, 18591, 27383, 34211, 1532, 12143, 12561, 17880, 22939, 25212",
         "38737: 5, 18591: 4, 27383: 4, 34211: 4, 12143: 3, 12561: 3, 1532: 3, 17880: 3, 22939: 3, 25212: 3"
        ],
        [
         "31",
         "29696, 29704, 29695, 29703, 29709, 29692, 29712, 41079, 27383, 29710",
         "29696: 7, 29704: 7, 29695: 5, 29703: 5, 29709: 5, 29692: 4, 29712: 4, 41079: 4, 27383: 3, 29710: 3"
        ],
        [
         "8675",
         "239, 16883, 16862, 15356, 16914, 16966, 17022, 17740, 16896, 16898",
         "239: 17, 16883: 15, 16862: 11, 15356: 8, 16914: 8, 16966: 8, 17022: 8, 17740: 8, 16896: 7, 16898: 7"
        ],
        [
         "233",
         "95, 213, 240, 6935, 164, 17150, 19388, 20590, 33621, 38741",
         "95: 7, 213: 5, 240: 4, 6935: 3, 164: 2, 17150: 2, 19388: 2, 20590: 2, 33621: 2, 38741: 2"
        ],
        [
         "1234",
         "1230, 3895, 15186, 19211, 19427, 23202, 23690, 27549, 27609, 27736",
         "1230: 3, 15186: 3, 19211: 3, 19427: 3, 23202: 3, 23690: 3, 27549: 3, 27609: 3, 27736: 3, 3895: 3"
        ],
        [
         "7584",
         "7530, 7580, 7529, 7537, 7564, 7581, 7596, 7603, 5667, 5684",
         "7530: 9, 7580: 7, 7529: 5, 7537: 5, 7564: 5, 7581: 5, 7596: 5, 7603: 5, 5667: 4, 5684: 4"
        ],
        [
         "49998",
         "11377, 34439, 34450, 45133, 11383, 11385, 13852, 13863, 23510, 27555",
         "11377: 4, 34439: 3, 34450: 3, 45133: 3, 11383: 2, 11385: 2, 13852: 2, 13863: 2, 23510: 2, 27555: 2"
        ],
        [
         "21212",
         "21184, 1230, 1357, 11005, 11190, 11707, 13106, 13223, 13279, 13423",
         "21184: 2, 11005: 1, 11190: 1, 11707: 1, 1230: 1, 13106: 1, 13223: 1, 13279: 1, 13423: 1, 1357: 1"
        ],
        [
         "18853",
         "15715, 18852, 11066, 11863, 11865, 12447, 12715, 13637, 13640, 13648",
         "15715: 2, 18852: 2, 11066: 1, 11863: 1, 11865: 1, 12447: 1, 12715: 1, 13637: 1, 13640: 1, 13648: 1"
        ],
        [
         "36654",
         "36657, 36658, 12339, 12991, 22049, 24336, 28381, 30842, 30870, 30920",
         "36657: 2, 36658: 2, 12339: 1, 12991: 1, 22049: 1, 24336: 1, 28381: 1, 30842: 1, 30870: 1, 30920: 1"
        ]
       ],
       "datasetInfos": [],
       "dbfsResultPath": null,
       "isJsonSchema": true,
       "metadata": {},
       "overflow": false,
       "plotOptions": {
        "customPlotOptions": {},
        "displayType": "table",
        "pivotAggregation": null,
        "pivotColumns": null,
        "xColumns": null,
        "yColumns": null
       },
       "removedWidgets": [],
       "schema": [
        {
         "metadata": "{}",
         "name": "User",
         "type": "\"string\""
        },
        {
         "metadata": "{}",
         "name": "Recommendations",
         "type": "\"string\""
        },
        {
         "metadata": "{}",
         "name": "Mutuals Count",
         "type": "\"string\""
        }
       ],
       "type": "table"
      }
     },
     "output_type": "display_data"
    }
   ],
   "source": [
    "# Single cell steps for getting results:\n",
    "(\n",
    "    data\n",
    "    .map(lambda x: {\n",
    "        \"user\": x[0], \n",
    "        \"recommendations\": set([i for j in x[1] for i in data_dict.value[j] if i not in x[1] and i !=x [0]])})\n",
    "    .filter(lambda x: x[\"user\"] in user_list)\n",
    "    .map(lambda x: {\n",
    "        \"user\": x[\"user\"], \n",
    "        \"recommendations\": count_mutuals(x[\"recommendations\"], x[\"user\"])})\n",
    "    .map(lambda x: (\n",
    "        x[\"user\"], \n",
    "        \", \".join([y[0] for y in sorted(x[\"recommendations\"], key=lambda z: (-z[1], int(z[0])))]), \n",
    "        \", \".join([f\"{y[0]}: {y[1]}\" for y in x[\"recommendations\"]])))\n",
    "    .toDF([\"User\", \"Recommendations\", \"Mutuals Count\"])\n",
    "    .display()\n",
    ")"
   ]
  }
 ],
 "metadata": {
  "application/vnd.databricks.v1+notebook": {
   "dashboards": [],
   "environmentMetadata": null,
   "language": "python",
   "notebookMetadata": {
    "pythonIndentUnit": 4
   },
   "notebookName": "Assignment-2-Part-1",
   "widgets": {}
  }
 },
 "nbformat": 4,
 "nbformat_minor": 0
}
